{
  "nbformat": 4,
  "nbformat_minor": 0,
  "metadata": {
    "colab": {
      "name": "Geneartive-Adversarial-Networks.ipynb",
      "version": "0.3.2",
      "provenance": [],
      "collapsed_sections": [],
      "include_colab_link": true
    },
    "kernelspec": {
      "name": "python3",
      "display_name": "Python 3"
    },
    "accelerator": "GPU"
  },
  "cells": [
    {
      "cell_type": "markdown",
      "metadata": {
        "id": "view-in-github",
        "colab_type": "text"
      },
      "source": [
        "<a href=\"https://colab.research.google.com/github/ricvolpe/ml-essentials/blob/master/papers/Geneartive_Adversarial_Networks.ipynb\" target=\"_parent\"><img src=\"https://colab.research.google.com/assets/colab-badge.svg\" alt=\"Open In Colab\"/></a>"
      ]
    },
    {
      "metadata": {
        "id": "EKWebgWyX7yf",
        "colab_type": "text"
      },
      "cell_type": "markdown",
      "source": [
        "# Machine Learning Essentials: Generative Adversarial Networks\n",
        "---\n",
        "\n",
        "Generative Adversarial Networks (GAN) are one, if not the, most interesting innovations in Artificial Intelligence in the last 10 years. Yann LeCun, one of the fathers of back-propagation, the core algorithm behind Deep Neural Networks went as far as saying that they are “the coolest idea in deep learning in the last 20 years.” \n",
        "\n",
        "Up until the emergence of GANs, all most impressive results in Artificial Intelligence and Deep Learning were associated with *discriminative* models, that is, models that given a data input can associate a meta-data output to the input, such as identifying an animal type in a picture or the text corresponding to a audio wave. GANs, very differently, are *generative* models, that is, given a noise input, the create something out of this noise.\n",
        "\n",
        "In this **Machine Learning Essentials** notebook, I share my understandings, notes and reflecltion on replicating the very first GAN developed as describe by, the now cornerstone of machine learning, paper *Generative Adversarial Nets* written by Ian Goodfellow, Yoshua Bengio, Aaron Courville and others in 2014."
      ]
    },
    {
      "metadata": {
        "id": "Orq-nOjXMzjC",
        "colab_type": "text"
      },
      "cell_type": "markdown",
      "source": [
        "## Original Code and CPUs\n",
        "\n",
        "At first, I tried to fork and replicate the original source code provided with the GAN paper at [this GitHub lik](https://github.com/goodfeli/adversarial). However, the code has been un-maintained for few years and machine learning repositories become legacy extremely quickly these days. The code is largely built on the now un-maintained librarly *PyLearn2* (originally developed by some of the same authors of the paper). After substantial tweaking and re-built of all dependecies in other to find the exact versions of all packages that would enable the code to run, I finally managed it, watching my first local GAN running with some satisfaction.\n",
        "\n",
        "Only then I remembered that I had no GPU on my local machine. Collecting the training results when my computer was lameting overheating, my low expecetations were confirmed by the visualisation below:\n",
        "\n",
        "![attempt-at-replicating-results-on-CPU](https://docs.google.com/uc?export=download&id=1-rg06sWwauXKesjcNjYxPM9Y-_GiiifQ)\n",
        "\n",
        "Intriguide by the details of the paper and unsatisfied with my first replica, I turned to Google Collaborative, which offers Jupyter Notebooks with available GPU and TPU runtimes. However, as I realized that was not worth to perform all the tweaks and library installations to get the un-maintained original code to work on a Colab Notebook, I quickly found more modern [Tensorflow](https://towardsdatascience.com/generative-adversarial-networks-using-tensorflow-c8f4518406df) and [Keras](https://github.com/eriklindernoren/Keras-GAN) re-implementations of GANs."
      ]
    },
    {
      "metadata": {
        "id": "zd_ACR1h-mIe",
        "colab_type": "text"
      },
      "cell_type": "markdown",
      "source": [
        "## Theory, Keras and GPUs \n",
        "\n",
        "\n",
        "Before GANs, most work on deep generative models focused on models that provided a parametric specification of a probability distribution function. However, such models, had intractable likelihood functions and required approximations. GANs are also often confused with Adversarial Examples. These are not generative models per se, but only show that network can discriminate differently objects that appears very similar to us, confirming the challenge of modelling multi-dimensional distributions.\n",
        "\n",
        "In a nutshell, Generative Adversarial Networks are made of two multilayer perceptrons: G the generator and D the discriminator. G captures the data distribution, while D tries to tell apart if something was coming from the original data or was generated by G. GANs have a theoretical unique solution where G replicates perfectly the data distribution and D assigns equal probably of being it from G or from data to any example. Both G and D are trained with back propagation, thus, no approximate inference or Markov chains are necessary. \n",
        "\n",
        "Formally, the key elements of a GAN are:\n",
        "\n",
        "![key-elements](https://docs.google.com/uc?export=download&id=1Gcm7uw5TOmXa1NzOzwjqpxAzk-qnoO7I)\n",
        "\n",
        "While we familiarise with them, let us also start importing all necessary packages required for our paper replication. As the paper provided samples and results for re-generative the famous MNIST handwritten digit data, we will also load this dataset."
      ]
    },
    {
      "metadata": {
        "id": "XmyjBT_cM__p",
        "colab_type": "code",
        "outputId": "c04207db-3bff-40b0-a48d-0c20d2c9b3bc",
        "colab": {
          "base_uri": "https://localhost:8080/",
          "height": 34
        }
      },
      "cell_type": "code",
      "source": [
        "from __future__ import print_function, division\n",
        "\n",
        "from keras.datasets import mnist\n",
        "from keras.layers import Input, Dense, Reshape, Flatten, Dropout\n",
        "from keras.layers import BatchNormalization, Activation, ZeroPadding2D\n",
        "from keras.layers.advanced_activations import LeakyReLU\n",
        "from keras.layers.convolutional import UpSampling2D, Conv2D\n",
        "from keras.models import Sequential, Model\n",
        "from keras.optimizers import Adam\n",
        "\n",
        "import matplotlib.pyplot as plt\n",
        "\n",
        "import sys\n",
        "\n",
        "import numpy as np"
      ],
      "execution_count": 0,
      "outputs": [
        {
          "output_type": "stream",
          "text": [
            "Using TensorFlow backend.\n"
          ],
          "name": "stderr"
        }
      ]
    },
    {
      "metadata": {
        "id": "Ddlgd8w_CpAU",
        "colab_type": "text"
      },
      "cell_type": "markdown",
      "source": [
        "The generator model (G) take noise as inputs and generate a new image out of it. The generator has the goal of minimizing the number of times in which the discriminator correctly understand that its output is fake (i.e. being caught). That is, it is induced to reproduce exactly the data distribution. While in the original paper the Generator network uses Maxout layers, these are currently not available in Keras and the model below uses batch normalisation and leaky ReLU instead."
      ]
    },
    {
      "metadata": {
        "id": "c1R98wgANESQ",
        "colab_type": "code",
        "colab": {}
      },
      "cell_type": "code",
      "source": [
        "def Generator(latent_dim, out_shape):\n",
        "\n",
        "    model = Sequential()\n",
        "\n",
        "    model.add(Dense(1200, input_dim=latent_dim, activation='relu'))\n",
        "    model.add(BatchNormalization(momentum=0.8))\n",
        "    model.add(Dense(512))\n",
        "    model.add(LeakyReLU(alpha=0.2))\n",
        "    model.add(BatchNormalization(momentum=0.8))\n",
        "    model.add(Dense(1024))\n",
        "    model.add(LeakyReLU(alpha=0.2))\n",
        "    model.add(BatchNormalization(momentum=0.8))\n",
        "    model.add(Dense(np.prod(out_shape), activation='tanh'))\n",
        "    model.add(Reshape(out_shape))\n",
        "    \n",
        "    print('Generator Model')\n",
        "    model.summary()\n",
        "\n",
        "    noise = Input(shape=(latent_dim,))\n",
        "    img = model(noise)\n",
        "\n",
        "    return Model(noise, img)"
      ],
      "execution_count": 0,
      "outputs": []
    },
    {
      "metadata": {
        "id": "WuElajSWDKta",
        "colab_type": "text"
      },
      "cell_type": "markdown",
      "source": [
        "The discriminator model D, which is a simpler network, has the goal of outputting 1 for every example drawn from the real data and do not incurring in cost when outputting 1 for an example coming from the generator."
      ]
    },
    {
      "metadata": {
        "id": "MD96K_agNTPB",
        "colab_type": "code",
        "colab": {}
      },
      "cell_type": "code",
      "source": [
        "def Discriminator(in_shape):\n",
        "\n",
        "    model = Sequential()\n",
        "\n",
        "    model.add(Flatten(input_shape=in_shape))\n",
        "    model.add(Dense(512))\n",
        "    model.add(LeakyReLU(alpha=0.2))\n",
        "    model.add(Dense(256))\n",
        "    model.add(LeakyReLU(alpha=0.2))\n",
        "    model.add(Dense(1, activation='sigmoid'))\n",
        "    \n",
        "    print('Discriminator Model')\n",
        "    model.summary()\n",
        "\n",
        "    inp = Input(shape=in_shape)\n",
        "    validity = model(inp)\n",
        "\n",
        "    return Model(inp, validity)"
      ],
      "execution_count": 0,
      "outputs": []
    },
    {
      "metadata": {
        "id": "8a6RXEr_DRTt",
        "colab_type": "text"
      },
      "cell_type": "markdown",
      "source": [
        "Combining the objective functions of both models, we obtain a minmax game in the form expanded below:\n",
        "\n",
        "![min-max](https://docs.google.com/uc?export=download&id=1QAxJ_h8_TNIdvJUItrqlrUKTkHhkIOqM)\n",
        "\n",
        "The authors prove in an elegan way that such game has a global optimum where the Generator network replicates the original distribution of the data. The steps below summarise the proof:\n",
        "\n",
        "![theoretical-proof](https://docs.google.com/uc?export=download&id=1b7Rb11N3dfG_OSBzsq5J2C14aLP5LKAA)\n",
        "\n",
        "In practic, the authors define a training algorithm - alike the one coded below - who lead G and D to converge to the above global optimum, which is further proved in paper.\n",
        "\n",
        "![theoretical-proof](https://docs.google.com/uc?export=download&id=1iwM4WMaaXzKuTWORigGFMs_CfCXQS-Kd)\n",
        "\n",
        "A very important caveat that the authors make is that in practice, adversarial nets represent a limited family of probability distributions via the function G(z; θ_g), and they optimize the θ parameters rather than probablity distribution itself, so the proofs do not fully apply to them. However, the excellent performance of multilayer perceptrons in practice suggests that they are a reasonable model to use despite their lack of theoretical guarantees."
      ]
    },
    {
      "metadata": {
        "id": "L25ldYhwNiD_",
        "colab_type": "code",
        "colab": {}
      },
      "cell_type": "code",
      "source": [
        "def train(data, latent_dim, generator, discriminator, combined, epochs, batch_size=128):\n",
        "\n",
        "    # Rescale -1 to 1\n",
        "    data = data / 127.5 - 1.\n",
        "    data = np.expand_dims(data, axis=3)\n",
        "\n",
        "    # Adversarial ground truths\n",
        "    valid = np.ones((batch_size, 1))\n",
        "    fake = np.zeros((batch_size, 1))\n",
        "\n",
        "    for epoch in range(epochs):\n",
        "\n",
        "        # ----- Train Discriminator\n",
        "        # Select a random batch of images\n",
        "        idx = np.random.randint(0, data.shape[0], batch_size)\n",
        "        imgs = data[idx]\n",
        "        noise = np.random.normal(0, 1, (batch_size, latent_dim))\n",
        "\n",
        "        # Generate a batch of new images\n",
        "        gen_imgs = generator.predict(noise)\n",
        "        \n",
        "        # Train the discriminator\n",
        "        d_loss_real = discriminator.train_on_batch(imgs, valid)\n",
        "        d_loss_fake = discriminator.train_on_batch(gen_imgs, fake)\n",
        "        d_loss = 0.5 * np.add(d_loss_real, d_loss_fake)\n",
        "        \n",
        "        # ----- Train Generator\n",
        "        noise = np.random.normal(0, 1, (batch_size, latent_dim))\n",
        "\n",
        "        # Train the generator (to have the discriminator label samples as valid)\n",
        "        g_loss = combined.train_on_batch(noise, valid)\n",
        "\n",
        "        # Plot the progress\n",
        "        print (\"%d [D loss: %f, acc.: %.2f%%] [G loss: %f]\" % \n",
        "               (epoch, d_loss[0], 100*d_loss[1], g_loss))"
      ],
      "execution_count": 0,
      "outputs": []
    },
    {
      "metadata": {
        "id": "rCcYiqQmFDuY",
        "colab_type": "text"
      },
      "cell_type": "markdown",
      "source": [
        "After having defined the training algorithm we can now define a function that queries it for new samples and show them to us in a human comprehensive way, so that we ourselves can assess if the generative model is qualitately performing well."
      ]
    },
    {
      "metadata": {
        "id": "pGw_Y91ZOgws",
        "colab_type": "code",
        "colab": {}
      },
      "cell_type": "code",
      "source": [
        "def sample(latent_dim, generator):\n",
        "    \n",
        "    noise = np.random.normal(0, 1, (1, latent_dim))\n",
        "    gen_img = generator.predict(np.random.normal(0, 1, (1, latent_dim)))\n",
        "\n",
        "    # Rescale 0 - 1\n",
        "    gen_img = 0.5 * gen_img + 0.5\n",
        "    \n",
        "    # Plot\n",
        "    plt.imshow(gen_img[0, :,:,0], cmap='copper')\n",
        "    plt.show()"
      ],
      "execution_count": 0,
      "outputs": []
    },
    {
      "metadata": {
        "id": "4g6Hjht8FVPU",
        "colab_type": "text"
      },
      "cell_type": "markdown",
      "source": [
        "We are not ready to define all the required paramenters (such as the input and output shapes and the gradient optimiser) compile and run our Keras models."
      ]
    },
    {
      "metadata": {
        "id": "S1ktLe-FPJFw",
        "colab_type": "code",
        "colab": {}
      },
      "cell_type": "code",
      "source": [
        "# Set up dimensions\n",
        "rows = 28\n",
        "cols = 28\n",
        "channels = 1\n",
        "img_shape = (rows, cols, channels)\n",
        "latent_dim = 100"
      ],
      "execution_count": 0,
      "outputs": []
    },
    {
      "metadata": {
        "id": "U8z9J5_gPW1d",
        "colab_type": "code",
        "outputId": "e97a3b24-8008-4eba-f32b-56d3e19326e9",
        "colab": {
          "base_uri": "https://localhost:8080/",
          "height": 1166
        }
      },
      "cell_type": "code",
      "source": [
        "# Set up models\n",
        "optimizer = Adam(0.0002, 0.5)\n",
        "\n",
        "D = Discriminator(img_shape)\n",
        "D.compile(loss='binary_crossentropy', optimizer=optimizer, metrics=['accuracy'])\n",
        "\n",
        "G = Generator(latent_dim, img_shape)\n",
        "# The generator takes noise as input and generates imgs\n",
        "z = Input(shape=(latent_dim,))\n",
        "img = G(z)\n",
        "\n",
        "D.trainable = False # For the combined model we will only train the generator\n",
        "# The discriminator takes generated images as input and determines validity\n",
        "validity = D(img)\n",
        "\n",
        "# The combined model  (stacked generator and discriminator)\n",
        "# Trains the generator to fool the discriminator\n",
        "combined = Model(z, validity)\n",
        "print('Combined Model')\n",
        "combined.summary()\n",
        "combined.compile(loss='binary_crossentropy', optimizer=optimizer)"
      ],
      "execution_count": 0,
      "outputs": [
        {
          "output_type": "stream",
          "text": [
            "WARNING:tensorflow:From /usr/local/lib/python3.6/dist-packages/tensorflow/python/framework/op_def_library.py:263: colocate_with (from tensorflow.python.framework.ops) is deprecated and will be removed in a future version.\n",
            "Instructions for updating:\n",
            "Colocations handled automatically by placer.\n",
            "Discriminator Model\n",
            "_________________________________________________________________\n",
            "Layer (type)                 Output Shape              Param #   \n",
            "=================================================================\n",
            "flatten_1 (Flatten)          (None, 784)               0         \n",
            "_________________________________________________________________\n",
            "dense_1 (Dense)              (None, 512)               401920    \n",
            "_________________________________________________________________\n",
            "leaky_re_lu_1 (LeakyReLU)    (None, 512)               0         \n",
            "_________________________________________________________________\n",
            "dense_2 (Dense)              (None, 256)               131328    \n",
            "_________________________________________________________________\n",
            "leaky_re_lu_2 (LeakyReLU)    (None, 256)               0         \n",
            "_________________________________________________________________\n",
            "dense_3 (Dense)              (None, 1)                 257       \n",
            "=================================================================\n",
            "Total params: 533,505\n",
            "Trainable params: 533,505\n",
            "Non-trainable params: 0\n",
            "_________________________________________________________________\n",
            "Generator Model\n",
            "_________________________________________________________________\n",
            "Layer (type)                 Output Shape              Param #   \n",
            "=================================================================\n",
            "dense_4 (Dense)              (None, 1200)              121200    \n",
            "_________________________________________________________________\n",
            "batch_normalization_1 (Batch (None, 1200)              4800      \n",
            "_________________________________________________________________\n",
            "dense_5 (Dense)              (None, 512)               614912    \n",
            "_________________________________________________________________\n",
            "leaky_re_lu_3 (LeakyReLU)    (None, 512)               0         \n",
            "_________________________________________________________________\n",
            "batch_normalization_2 (Batch (None, 512)               2048      \n",
            "_________________________________________________________________\n",
            "dense_6 (Dense)              (None, 1024)              525312    \n",
            "_________________________________________________________________\n",
            "leaky_re_lu_4 (LeakyReLU)    (None, 1024)              0         \n",
            "_________________________________________________________________\n",
            "batch_normalization_3 (Batch (None, 1024)              4096      \n",
            "_________________________________________________________________\n",
            "dense_7 (Dense)              (None, 784)               803600    \n",
            "_________________________________________________________________\n",
            "reshape_1 (Reshape)          (None, 28, 28, 1)         0         \n",
            "=================================================================\n",
            "Total params: 2,075,968\n",
            "Trainable params: 2,070,496\n",
            "Non-trainable params: 5,472\n",
            "_________________________________________________________________\n",
            "Combined Model\n",
            "_________________________________________________________________\n",
            "Layer (type)                 Output Shape              Param #   \n",
            "=================================================================\n",
            "input_3 (InputLayer)         (None, 100)               0         \n",
            "_________________________________________________________________\n",
            "model_2 (Model)              (None, 28, 28, 1)         2075968   \n",
            "_________________________________________________________________\n",
            "model_1 (Model)              (None, 1)                 533505    \n",
            "=================================================================\n",
            "Total params: 2,609,473\n",
            "Trainable params: 2,070,496\n",
            "Non-trainable params: 538,977\n",
            "_________________________________________________________________\n"
          ],
          "name": "stdout"
        }
      ]
    },
    {
      "metadata": {
        "id": "bAE2Bgx5Fh47",
        "colab_type": "text"
      },
      "cell_type": "markdown",
      "source": [
        "Let us now train the model on the MNIST training data. Sadly I experienced issues when running the Collaborative Notebook for longer than 10000 epochs, thus, this was the maximum length I could train this GAN replica for."
      ]
    },
    {
      "metadata": {
        "id": "r2rpM_38QsTN",
        "colab_type": "code",
        "colab": {}
      },
      "cell_type": "code",
      "source": [
        "# Load the dataset\n",
        "(X_train, _), (X_test, _) = mnist.load_data()\n",
        "\n",
        "# Train combined model\n",
        "train(X_train, 100, G, D, combined, epochs=10000)"
      ],
      "execution_count": 0,
      "outputs": []
    },
    {
      "metadata": {
        "id": "Nbh_62HCF0fo",
        "colab_type": "text"
      },
      "cell_type": "markdown",
      "source": [
        "We can now generate few samples. We can see that, although the low number of epochs and relative fast training, generated samples resemble original numbers fairly well!"
      ]
    },
    {
      "metadata": {
        "id": "cSwmR_tSSb0k",
        "colab_type": "code",
        "outputId": "48428c5e-fba2-482e-9ee5-58697c04c581",
        "colab": {
          "base_uri": "https://localhost:8080/",
          "height": 347
        }
      },
      "cell_type": "code",
      "source": [
        "sample(100, G)"
      ],
      "execution_count": 0,
      "outputs": [
        {
          "output_type": "display_data",
          "data": {
            "image/png": "[encoded data removed]",
            "text/plain": [
              "<Figure size 576x396 with 1 Axes>"
            ]
          },
          "metadata": {
            "tags": []
          }
        }
      ]
    },
    {
      "metadata": {
        "id": "K8wNSZnNGC77",
        "colab_type": "text"
      },
      "cell_type": "markdown",
      "source": [
        "## Problematic Bonus: Parzen Window Estimation\n",
        "\n",
        "To fully replicate the original GAN work, I aimed at reproducing the experimental evaluations provided in the paper as well. The authors evaluate their models using a by fitting a Gaussian Parzen window to the samples generated with G and reporting the log-likelihood of the original data under this distribution. \n",
        "\n",
        "The code provided below generates one hundres samples from the trained Generator and then evaluates them using a Gaussian Parzen window. However, for lack of training or perhaps my mistakes in the re-implementation of the window function results are singificantly different from the original ones provided in the paper. As my understanding of machine learning essentials matures, I will further investigate this discrepancy."
      ]
    },
    {
      "metadata": {
        "id": "q1NWTfTQHRh9",
        "colab_type": "code",
        "colab": {}
      },
      "cell_type": "code",
      "source": [
        "samples = np.array([G.predict(np.random.normal(0, 1, (1, 100))) for x in range(len(X_test))])"
      ],
      "execution_count": 0,
      "outputs": []
    },
    {
      "metadata": {
        "id": "YtqSH362HttB",
        "colab_type": "code",
        "colab": {}
      },
      "cell_type": "code",
      "source": [
        "import time\n",
        "\n",
        "def parzen(X, sigma):\n",
        "\n",
        "    def parzen_window(x):\n",
        "        mu = X\n",
        "        a = (x.reshape(x.shape[0], 1, x.shape[1]) - mu.reshape(1, mu.shape[0], mu.shape[1])) / sigma\n",
        "        est = (1 / sigma * np.sqrt(np.pi * 2)) * (np.exp(-0.5*(a**2).sum(2)))\n",
        "        return est\n",
        "    return parzen_window\n",
        "\n",
        "def batch_mean_of_densities(n_batches, pz_win, X, indexes):\n",
        "    times = []\n",
        "    nlls = []\n",
        "    for i in range(n_batches):\n",
        "        begin = time.time()\n",
        "        nll = pz_win(X[indexes[i::n_batches]])\n",
        "        end = time.time()\n",
        "        nlls.extend(nll)\n",
        "        times.append(end-begin)\n",
        "\n",
        "        if i % 10 == 0:\n",
        "            print (i, np.mean(times), np.mean(nlls))\n",
        "    return nlls"
      ],
      "execution_count": 0,
      "outputs": []
    },
    {
      "metadata": {
        "id": "-V5yxVXpKMPz",
        "colab_type": "code",
        "colab": {}
      },
      "cell_type": "code",
      "source": [
        "samples = samples.reshape((samples.shape[0], np.prod(samples.shape[1:])))\n",
        "pz_win = parzen(samples, 0.5)"
      ],
      "execution_count": 0,
      "outputs": []
    },
    {
      "metadata": {
        "id": "oDyi_l7-KQiN",
        "colab_type": "code",
        "colab": {}
      },
      "cell_type": "code",
      "source": [
        "X_test_norm = X_test / 127.5 - 1.\n",
        "X_test_norm = X_test_norm.reshape((X_test_norm.shape[0], np.prod(X_test_norm.shape[1:])))"
      ],
      "execution_count": 0,
      "outputs": []
    },
    {
      "metadata": {
        "id": "4tVuOi8xN-Pb",
        "colab_type": "code",
        "colab": {}
      },
      "cell_type": "code",
      "source": [
        "inds = range(X_test_norm.shape[0])\n",
        "n_batches = int(np.ceil(float(len(inds)) / 10))\n",
        "nlls = batch_mean_of_densities(n_batches, pz_win, X_test_norm, inds)"
      ],
      "execution_count": 0,
      "outputs": []
    },
    {
      "metadata": {
        "id": "82kfKWirQNRs",
        "colab_type": "code",
        "colab": {}
      },
      "cell_type": "code",
      "source": [
        "ll = np.array(nlls)\n",
        "se = ll.std() / np.sqrt(X_test_norm.shape[0])\n",
        "print(ll.mean(), se)"
      ],
      "execution_count": 0,
      "outputs": []
    },
    {
      "metadata": {
        "id": "heJRL28-Zz_j",
        "colab_type": "text"
      },
      "cell_type": "markdown",
      "source": [
        "## References\n",
        "\n",
        "- https://kaushikghose.wordpress.com/2013/10/23/parzen-windows-for-estimating-distributions/\n",
        "- https://www.projectrhea.org/rhea/index.php/Parzen_Window_Density_Estimation\n",
        "- http://www.personal.reading.ac.uk/~sis01xh/teaching/CY2D2/Pattern2.pdf\n",
        "- https://towardsdatascience.com/generative-adversarial-networks-using-tensorflow-c8f4518406df .\n",
        "- https://github.com/eriklindernoren/Keras-GAN\n"
      ]
    }
  ]
}